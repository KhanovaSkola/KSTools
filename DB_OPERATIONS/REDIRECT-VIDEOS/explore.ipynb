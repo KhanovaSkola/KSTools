{
 "cells": [
  {
   "cell_type": "code",
   "execution_count": 1,
   "metadata": {},
   "outputs": [],
   "source": [
    "KAFILE = 'cs-export-2020-07-14T11-18-37+0000.tsv'\n",
    "KSFILE = 'ks_videos.tsv'"
   ]
  },
  {
   "cell_type": "code",
   "execution_count": 2,
   "metadata": {},
   "outputs": [
    {
     "name": "stdout",
     "output_type": "stream",
     "text": [
      "10\tOdčítání z hlavy\tGBtcGO44e-A\tGBtcGO44e-A\t\n",
      "\n",
      "2805\tPrvočísla\tHYBSlf0P1DA\tmIStB5X4U8M\thttps://cs.khanacademy.org/v/prime-numbers\n",
      "\n",
      "2818\tVyjádření proměnné z výrazu\tU-ESXnneNhc\tAJNDeVt9UOo\thttps://cs.khanacademy.org/v/variables-and-expressions-1\n",
      "\n",
      "2841\tPrvočíselný rozklad\tAla4BZjBbkc\tZKKDTfHcsG0\thttps://cs.khanacademy.org/v/prime-factorization\n",
      "\n",
      "2994\tÚvod do goniometrie\tYD3E_L7YNRM\tJsiy4TxgIME\thttps://cs.khanacademy.org/v/basic-trigonometry\n",
      "\n",
      "3443\tNerovnice s absolutní hodnotou\tTvUCe6Bomy4\t\t\n",
      "\n",
      "3659\t5 úžasných číselných soustav\tRoMGatx4IRQ\tRoMGatx4IRQ\t\n",
      "\n",
      "3750\tPorovnávání celých čísel\tJ46hYYrkXyM\t9Jg5S7F2SMQ\t\n",
      "\n",
      "3761\tDělení dvouciferným číslem - řešený příklad\tWmbyKBtm9us\tuCBm8iDyg1s\t\n",
      "\n",
      "3763\tSlovní úlohy na odčítání do 10\tG-rfJB0Zl3A\tqSkpZswoZTc\t\n",
      "\n",
      "3767\tPostupy pro sčítání čísel do 100\te5MDP7hgruY\tkMHFY6ZrKbU\t\n",
      "\n",
      "3774\tSlovní úloha: Sčítání a odčítání 2ciferných čísel\tZDripoF5__U\tqyvwN-2PoXAd\t\n",
      "\n"
     ]
    }
   ],
   "source": [
    "ks_ytids = set()\n",
    "# Also prints duplicate videos\n",
    "with open(KSFILE, 'r') as f:\n",
    "    for line in f:\n",
    "        id, title, ytid, ytid_original, ka_url = line.split('\\t')\n",
    "        if ytid_original != '' and ytid_original != '\"\"':\n",
    "            ks_ytids.add(ytid_original)\n",
    "        if ytid in ks_ytids:\n",
    "            print(line)\n",
    "        else:\n",
    "            ks_ytids.add(ytid)"
   ]
  },
  {
   "cell_type": "code",
   "execution_count": 3,
   "metadata": {},
   "outputs": [],
   "source": [
    "cols = {\n",
    "    'kind': 0,\n",
    "    'id': 2,\n",
    "    'url': 9,\n",
    "    'ytid': 16,\n",
    "    'translated_ytid': 27,\n",
    "    'listed': 11,\n",
    "}"
   ]
  },
  {
   "cell_type": "code",
   "execution_count": 128,
   "metadata": {},
   "outputs": [],
   "source": [
    "SQL_TEMPLATE = \"UPDATE contents SET ka_url = '%s' WHERE youtube_id IN ('%s', '%s') OR youtube_id_original IN ('%s', '%s');\\n\"\n",
    "\n",
    "sql_commands = []\n",
    "ka_ids = set()\n",
    "with open(KAFILE, 'r') as f:\n",
    "    for line in f:\n",
    "        l = line.split('\\t')\n",
    "        # Skip everything but videos\n",
    "        if l[cols['kind']].lower() != 'video':\n",
    "            continue\n",
    "        # Skip unlisted videos\n",
    "        # MUST BE HERE, BEFORE IDs\n",
    "        if l[cols['listed']].lower() == 'true':\n",
    "            listed = True\n",
    "        else: \n",
    "            listed = False\n",
    "        if not listed:\n",
    "            continue\n",
    "        \n",
    "        # Skip duplicate videos in KA content export\n",
    "        id = l[cols['id']]\n",
    "        if id in ka_ids:\n",
    "            continue\n",
    "        else:\n",
    "            ka_ids.add(id)\n",
    "  \n",
    "        ytid = l[cols['ytid']]\n",
    "        translated_ytid = l[cols['translated_ytid']]\n",
    "        if translated_ytid == '' or translated_ytid is None:\n",
    "            translated_ytid = ytid\n",
    "        canonical_url = l[cols['url']]\n",
    "        if ytid in ks_ytids or ytid_translated in ks_ytids:\n",
    "            sql_cmd = SQL_TEMPLATE % (canonical_url, ytid, translated_ytid, ytid, translated_ytid)\n",
    "            sql_commands.append(sql_cmd)"
   ]
  },
  {
   "cell_type": "code",
   "execution_count": 129,
   "metadata": {},
   "outputs": [
    {
     "name": "stdout",
     "output_type": "stream",
     "text": [
      "UPDATE contents SET ka_url = 'https://cs.khanacademy.org/science/cosmology-and-astronomy/universe-scale-topic/scale-earth-galaxy-tutorial/v/scale-of-the-large' WHERE youtube_id IN ('5FEjrStgcF8', '5FEjrStgcF8') OR youtube_id_original IN ('5FEjrStgcF8', '5FEjrStgcF8');\n",
      "\n",
      "845\n"
     ]
    }
   ],
   "source": [
    "print(sql_commands[0])\n",
    "print(len(sql_commands))"
   ]
  },
  {
   "cell_type": "code",
   "execution_count": 130,
   "metadata": {},
   "outputs": [],
   "source": [
    "SQL_FNAME = 'update_ka_urls.sql'\n",
    "with open(SQL_FNAME, 'w') as f:\n",
    "    for cmd in sql_commands:\n",
    "        f.write(cmd)"
   ]
  },
  {
   "cell_type": "code",
   "execution_count": 79,
   "metadata": {},
   "outputs": [],
   "source": [
    "if '' in ks_ytids:\n",
    "    print('empty_string')"
   ]
  },
  {
   "cell_type": "code",
   "execution_count": 113,
   "metadata": {},
   "outputs": [],
   "source": [
    "# Can also be computed with this AWK one-liner:\n",
    "# awk -F\"\\t\" '{if($1==\"Video\" && $12==\"True\") print $3}' cs-export-2020-07-14T11-18-37+0000.tsv | sort -n | uniq | wc -l\n",
    "\n",
    "# for calculating all content types at once\n",
    "# awk -F\"\\t\" '{if($12==\"True\") print $1,$3}' cs-export-2020-07-14T11-18-37+0000.tsv | sort -n | uniq | awk '{print $1}' | uniq -c\n",
    "def count_unique_content(fname, ct_kind):\n",
    "    count = 0\n",
    "    ka_ids = set()\n",
    "    with open(fname, 'r') as f:\n",
    "        for line in f:\n",
    "            l = line.split('\\t')\n",
    "            id = l[cols['id']]\n",
    "            kind = l[cols['kind']]\n",
    "            if l[cols['listed']].lower() == 'true':\n",
    "                listed = True\n",
    "            else: \n",
    "                listed = False\n",
    "                \n",
    "            if kind.lower() != ct_kind.lower():\n",
    "                continue\n",
    "                \n",
    "            if not listed:\n",
    "                continue\n",
    "                \n",
    "            if id in ka_ids:\n",
    "                continue\n",
    "            \n",
    "            ka_ids.add(id)\n",
    "            count += 1\n",
    "\n",
    "    return count\n",
    "\n",
    "def count_all(fname):\n",
    "    kinds = ('video', 'exercise', 'talkthrough', 'Challenge', 'Interactive', 'Project',\n",
    "             'lesson', 'unit', 'course', 'domain')\n",
    "    \n",
    "    counts = {}\n",
    "    for kind in kinds:\n",
    "        counts[kind] = count_unique_content(fname, kind)\n",
    "\n",
    "    return counts"
   ]
  },
  {
   "cell_type": "code",
   "execution_count": 114,
   "metadata": {},
   "outputs": [
    {
     "data": {
      "text/plain": [
       "{'video': 1630,\n",
       " 'exercise': 678,\n",
       " 'talkthrough': 32,\n",
       " 'Challenge': 29,\n",
       " 'Interactive': 26,\n",
       " 'Project': 11,\n",
       " 'lesson': 697,\n",
       " 'unit': 137,\n",
       " 'course': 29,\n",
       " 'domain': 5}"
      ]
     },
     "execution_count": 114,
     "metadata": {},
     "output_type": "execute_result"
    }
   ],
   "source": [
    "count_all(KAFILE)"
   ]
  },
  {
   "cell_type": "code",
   "execution_count": 121,
   "metadata": {},
   "outputs": [],
   "source": [
    "# Shit, need to FIX videos that I redirected but that are in fact unlisted\n",
    "SQL_TEMPLATE = \"UPDATE contents SET ka_url = NULL WHERE youtube_id IN ('%s', '%s') OR youtube_id_original IN ('%s', '%s');\\n\"\n",
    "sql_commands = []\n",
    "ka_ids = set()\n",
    "with open(KAFILE, 'r') as f:\n",
    "    for line in f:\n",
    "        l = line.split('\\t')\n",
    "        # Skip everything but videos\n",
    "        if l[cols['kind']].lower() != 'video':\n",
    "            continue\n",
    "        # Skip duplicate videos in KA content export\n",
    "        id = l[cols['id']]\n",
    "        if id in ka_ids:\n",
    "            continue\n",
    "        else:\n",
    "            ka_ids.add(id)\n",
    "  \n",
    "        # Skip LISTED videos\n",
    "        if l[cols['listed']].lower() == 'true':\n",
    "            listed = True\n",
    "        else: \n",
    "            listed = False\n",
    "        if listed:\n",
    "            continue\n",
    "            \n",
    "        ytid = l[cols['ytid']]\n",
    "        translated_ytid = l[cols['translated_ytid']]\n",
    "        if translated_ytid == '' or translated_ytid is None:\n",
    "            translated_ytid = ytid\n",
    "        canonical_url = l[cols['url']]\n",
    "        if ytid in ks_ytids or ytid_translated in ks_ytids:\n",
    "            sql_cmd = SQL_TEMPLATE % (ytid, translated_ytid, ytid, translated_ytid)\n",
    "            sql_commands.append(sql_cmd)"
   ]
  },
  {
   "cell_type": "code",
   "execution_count": 124,
   "metadata": {},
   "outputs": [
    {
     "data": {
      "text/plain": [
       "1915"
      ]
     },
     "execution_count": 124,
     "metadata": {},
     "output_type": "execute_result"
    }
   ],
   "source": [
    "len(sql_commands)+468"
   ]
  },
  {
   "cell_type": "code",
   "execution_count": 125,
   "metadata": {},
   "outputs": [],
   "source": [
    "SQL_FNAME = 'fix_unlisted_ka_urls.sql'\n",
    "with open(SQL_FNAME, 'w') as f:\n",
    "    for cmd in sql_commands:\n",
    "        f.write(cmd)"
   ]
  },
  {
   "cell_type": "code",
   "execution_count": 132,
   "metadata": {},
   "outputs": [
    {
     "name": "stdout",
     "output_type": "stream",
     "text": [
      "cs-export-2020-07-14T11-18-37+0000.tsv\tks_videos.tsv\n",
      "explore.ipynb\t\t\t\tks_visible_content.csv\n",
      "fix_unlisted_ka_urls.sql\t\to\n",
      "hide_videos.sql\t\t\t\tupdate_ka_urls_19-07-2020.sql\n"
     ]
    }
   ],
   "source": [
    "!ls"
   ]
  },
  {
   "cell_type": "markdown",
   "metadata": {},
   "source": [
    "## Hide videos not in KA anymore\n",
    "\n",
    "But be careful, some videos are not from KA! E.g. Crash Course and others"
   ]
  },
  {
   "cell_type": "code",
   "execution_count": 5,
   "metadata": {},
   "outputs": [],
   "source": [
    "ka_ytids = set()\n",
    "EN_KAFILE = '/home/hollas/khan/csv-export/tmp/tsv_download.en.tsv'\n",
    "with open(EN_KAFILE, 'r') as f:\n",
    "    for line in f:\n",
    "        l = line.split('\\t')\n",
    "        # Skip everything but videos\n",
    "        if l[cols['kind']].lower() != 'video':\n",
    "            continue\n",
    "            \n",
    "        ka_ytids.add(l[cols['ytid']])\n",
    "        #ka_ytids.add(l[cols['translated_ytid']])\n",
    "        # Here we do not skip unlisted"
   ]
  },
  {
   "cell_type": "code",
   "execution_count": 22,
   "metadata": {},
   "outputs": [
    {
     "data": {
      "text/plain": [
       "162"
      ]
     },
     "execution_count": 22,
     "metadata": {},
     "output_type": "execute_result"
    }
   ],
   "source": [
    "KSFILE_NEW = 'ks_visible_content_new.csv'\n",
    "KSFILE_NEW = 'ks_visible_videos_outside_blocks.csv'\n",
    "ks_ids_to_hide = set()\n",
    "with open(KSFILE_NEW, 'r', encoding='utf-8-sig') as f:\n",
    "    for line in f:\n",
    "        id, title, ytid, ytid_original, ka_url, = line.split('\\t')\n",
    "        if ytid_original not in ka_ytids and ytid not in ka_ytids:\n",
    "            ks_ids_to_hide.add(int(id))\n",
    "len(ks_ids_to_hide)"
   ]
  },
  {
   "cell_type": "code",
   "execution_count": 23,
   "metadata": {},
   "outputs": [],
   "source": [
    "SQL_TMPL = \"UPDATE contents SET hidden = 't' WHERE id = %d;\\n\"\n",
    "with open('hide_removed_orphans.sql', 'w') as f:\n",
    "    for id in ks_ids_to_hide:\n",
    "        f.write(SQL_TMPL % id)\n",
    "    "
   ]
  },
  {
   "cell_type": "code",
   "execution_count": null,
   "metadata": {},
   "outputs": [],
   "source": []
  }
 ],
 "metadata": {
  "kernelspec": {
   "display_name": "Python 3",
   "language": "python",
   "name": "python3"
  },
  "language_info": {
   "codemirror_mode": {
    "name": "ipython",
    "version": 3
   },
   "file_extension": ".py",
   "mimetype": "text/x-python",
   "name": "python",
   "nbconvert_exporter": "python",
   "pygments_lexer": "ipython3",
   "version": "3.8.1"
  }
 },
 "nbformat": 4,
 "nbformat_minor": 4
}
